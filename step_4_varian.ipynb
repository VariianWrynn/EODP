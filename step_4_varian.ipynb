{
 "cells": [
  {
   "cell_type": "code",
   "execution_count": null,
   "metadata": {},
   "outputs": [],
   "source": [
    "# import libraries\n",
    "import pandas as pd\n",
    "import numpy as np\n",
    "import matplotlib.pyplot as plt\n",
    "import sklearn as sk\n",
    "import re\n",
    "#imputer\n",
    "from sklearn.impute import SimpleImputer\n",
    "from sklearn.pipeline import Pipeline\n",
    "from sklearn.cluster import KMeans\n",
    "from sklearn.preprocessing import StandardScaler"
   ]
  },
  {
   "cell_type": "code",
   "execution_count": null,
   "metadata": {},
   "outputs": [],
   "source": [
    "data = pd.read_csv('cleaned_data.csv')\n",
    "data['User-Country'].describe()"
   ]
  },
  {
   "cell_type": "code",
   "execution_count": null,
   "metadata": {},
   "outputs": [],
   "source": [
    "data['User-ID'] = data['User-ID'].astype(str)\n",
    "data['Genre'] = data['Genre'].astype(str)\n",
    "data['Book-Rating'] = data['Book-Rating'].astype(float)\n",
    "data['User-Age'] = data['User-Age'].astype(int)\n",
    "\n",
    "# User Interaction Features\n",
    "# Count of Books Read per Genre\n",
    "genre_counts = data.pivot_table(index='User-ID', columns='Genre', values='ISBN', aggfunc='count', fill_value=0)\n",
    "\n",
    "# Average Rating per Genre\n",
    "average_ratings = data.pivot_table(index='User-ID', columns='Genre', values='Book-Rating', aggfunc='mean', fill_value=0)\n",
    "\n",
    "# Variability in Ratings per Genre\n",
    "std_dev_ratings = data.pivot_table(index='User-ID', columns='Genre', values='Book-Rating', aggfunc='std', fill_value=0)\n",
    "\n",
    "# Combine these features into a single DataFrame\n",
    "user_features = genre_counts.join(average_ratings, rsuffix='_avg').join(std_dev_ratings, rsuffix='_std')\n",
    "\n",
    "#add the age column from the original data to user_features\n",
    "user_features = user_features.join(data[['User-ID', 'User-Age']].set_index('User-ID'))\n",
    "\n",
    "#add the User-Country column from the original data to user_features\n",
    "user_features = user_features.join(data[['User-ID', 'User-Country']].set_index('User-ID'))\n",
    "\n",
    "# Example output\n",
    "user_features.head(100)"
   ]
  },
  {
   "cell_type": "code",
   "execution_count": null,
   "metadata": {},
   "outputs": [],
   "source": [
    "import pandas as pd\n",
    "\n",
    "bins = [0, 18, 25, 35, 45, 55, 65, 100]\n",
    "labels = ['<18', '18-25', '25-35', '35-45', '45-55', '55-65', '65+']\n",
    "user_features['Age Group'] = pd.cut(user_features['User-Age'], bins=bins, labels=labels, right=False)\n",
    "user_features.head(100)"
   ]
  },
  {
   "cell_type": "markdown",
   "metadata": {},
   "source": [
    "#### Downmsampling Age Group"
   ]
  },
  {
   "cell_type": "code",
   "execution_count": null,
   "metadata": {},
   "outputs": [],
   "source": [
    "\"\"\"age_group_counts = user_features['Age Group'].value_counts()\n",
    "print(age_group_counts)\n",
    "# Calculate the target size, for example, the median size of the age groups\n",
    "target_size = age_group_counts.median()\n",
    "\n",
    "# Separate the overrepresented group from the rest\n",
    "overrepresented = user_features[user_features['Age Group'] == '25-35']\n",
    "other_groups = user_features[user_features['Age Group'] != '25-35']\n",
    "\n",
    "# Downsample the overrepresented group\n",
    "downsampled = overrepresented.sample(n=int(target_size), random_state=42)\n",
    "\n",
    "balanced_user_features = pd.concat([downsampled, other_groups], ignore_index=True)\n",
    "user_features = pd.concat([downsampled, other_groups], ignore_index=True)\n",
    "\n",
    "age_group_counts = user_features['Age Group'].value_counts()\n",
    "print(age_group_counts)\"\"\""
   ]
  },
  {
   "cell_type": "code",
   "execution_count": null,
   "metadata": {},
   "outputs": [],
   "source": [
    "age_group_counts = user_features['Age Group'].value_counts()\n",
    "print(age_group_counts)"
   ]
  },
  {
   "cell_type": "code",
   "execution_count": null,
   "metadata": {},
   "outputs": [],
   "source": [
    "from sklearn.impute import SimpleImputer\n",
    "\n",
    "# Numeric columns: Impute with median\n",
    "numeric_columns = user_features.select_dtypes(include=['int64', 'float64']).columns\n",
    "numeric_imputer = SimpleImputer(strategy='median')\n",
    "user_features[numeric_columns] = numeric_imputer.fit_transform(user_features[numeric_columns])\n",
    "\n",
    "# Categorical columns: Impute with the most frequent value\n",
    "categorical_columns = user_features.select_dtypes(include=['object']).columns\n",
    "categorical_imputer = SimpleImputer(strategy='most_frequent')\n",
    "user_features[categorical_columns] = categorical_imputer.fit_transform(user_features[categorical_columns])"
   ]
  },
  {
   "cell_type": "code",
   "execution_count": null,
   "metadata": {},
   "outputs": [],
   "source": [
    "age_group_counts = user_features['Age Group'].value_counts()\n",
    "print(age_group_counts)"
   ]
  },
  {
   "cell_type": "code",
   "execution_count": null,
   "metadata": {},
   "outputs": [],
   "source": [
    "# Plot the distribution of the age data after imputation\n",
    "plt.figure(figsize=(10, 6))\n",
    "user_features['User-Age'].hist(bins=20)\n",
    "plt.title('Distribution of User Age After Median Imputation')\n",
    "plt.xlabel('Age')\n",
    "plt.ylabel('Frequency')\n",
    "plt.show()"
   ]
  },
  {
   "cell_type": "code",
   "execution_count": null,
   "metadata": {},
   "outputs": [],
   "source": [
    "# One-hot encoding for country\n",
    "country_dummies = pd.get_dummies(user_features['User-Country'], prefix='Country')\n",
    "# One-hot encoding for age group\n",
    "age_dummies = pd.get_dummies(user_features['Age Group'], prefix='Age')\n",
    "#copy the original data to a new dataframe\n",
    "user_features_visual = user_features.copy()\n",
    "# Dropping the original columns\n",
    "user_features.drop(['User-Country', 'Age Group'], axis=1, inplace=True)\n",
    "\n",
    "# Adding these to the main DataFrame\n",
    "user_features = pd.concat([user_features, country_dummies], axis=1)\n",
    "user_features = pd.concat([user_features, age_dummies], axis=1)\n",
    "\n",
    "user_features.head(100)"
   ]
  },
  {
   "cell_type": "code",
   "execution_count": null,
   "metadata": {},
   "outputs": [],
   "source": [
    "from sklearn.preprocessing import StandardScaler\n",
    "\n",
    "# Select only numerical features for scaling\n",
    "numerical_features = user_features.select_dtypes(include=['int64', 'float64'])\n",
    "scaler = StandardScaler()\n",
    "scaled_numerical_features = scaler.fit_transform(numerical_features)\n",
    "\n",
    "# Combine scaled numerical features back with categorical\n",
    "scaled_features = pd.concat([pd.DataFrame(scaled_numerical_features, columns=numerical_features.columns, index=numerical_features.index), user_features.select_dtypes(include=['uint8', 'category'])], axis=1)"
   ]
  },
  {
   "cell_type": "markdown",
   "metadata": {},
   "source": [
    "# Decision Tree"
   ]
  },
  {
   "cell_type": "code",
   "execution_count": null,
   "metadata": {},
   "outputs": [],
   "source": [
    "from sklearn.tree import DecisionTreeClassifier\n",
    "#apply decision Tree\n"
   ]
  },
  {
   "cell_type": "markdown",
   "metadata": {},
   "source": [
    "# K-MEANS"
   ]
  },
  {
   "cell_type": "code",
   "execution_count": null,
   "metadata": {},
   "outputs": [],
   "source": [
    "from sklearn.cluster import KMeans\n",
    "# Apply K-means clustering\n",
    "kmeans = KMeans(n_clusters=7)  # Adjust the number of clusters as needed\n",
    "clusters = kmeans.fit_predict(scaled_features)\n",
    "user_features['Cluster'] = clusters\n",
    "cluster_profiles = user_features.groupby('Cluster').mean()\n",
    "print(cluster_profiles.head())"
   ]
  },
  {
   "cell_type": "code",
   "execution_count": null,
   "metadata": {},
   "outputs": [],
   "source": [
    "# Group by cluster and calculate mean for numerical features and mode for categorical features\n",
    "cluster_summary = user_features.groupby('Cluster').agg({**{col: 'mean' for col in user_features.columns if user_features[col].dtype != 'object'},\n",
    "                                                       **{col: lambda x: x.mode()[0] if not x.mode().empty else np.nan for col in user_features.columns if user_features[col].dtype == 'object'}})\n",
    "cluster_summary"
   ]
  },
  {
   "cell_type": "code",
   "execution_count": null,
   "metadata": {},
   "outputs": [],
   "source": [
    "import matplotlib.pyplot as plt\n",
    "import seaborn as sns\n",
    "\n",
    "#extracting genre columns\n",
    "genre_columns = [col for col in cluster_summary.columns]\n",
    "genre_columns = genre_columns[0:9]\n",
    "\n",
    "# Visualization of genre preferences per cluster\n",
    "for genre in genre_columns:  # assuming genre_columns is a list of all your genre dummy columns\n",
    "    plt.figure(figsize=(10, 6))\n",
    "    sns.barplot(x='Cluster', y=genre, data=user_features)\n",
    "    plt.title(f'Preference for {genre} by Cluster')\n",
    "    plt.show()\n"
   ]
  },
  {
   "cell_type": "code",
   "execution_count": null,
   "metadata": {},
   "outputs": [],
   "source": [
    "import seaborn as sns\n",
    "import matplotlib.pyplot as plt\n",
    "\n",
    "# Heatmap of cluster centroids\n",
    "plt.figure(figsize=(10, 8))\n",
    "sns.heatmap(cluster_profiles, annot=True, cmap='coolwarm', fmt=\".2f\")\n",
    "plt.title('Heatmap of Cluster Centroids')\n",
    "plt.show()\n"
   ]
  },
  {
   "cell_type": "code",
   "execution_count": null,
   "metadata": {},
   "outputs": [],
   "source": [
    "import pandas as pd\n",
    "import matplotlib.pyplot as plt\n",
    "\n",
    "cluster_age_distribution = pd.crosstab(user_features['Cluster'], user_features_visual['Age Group'])\n",
    "\n",
    "# Plotting the stacked bar chart\n",
    "cluster_age_distribution.plot(kind='bar', stacked=True, figsize=(10, 7))\n",
    "plt.title('Age Distribution by Cluster')\n",
    "plt.xlabel('Cluster')\n",
    "plt.ylabel('Count')\n",
    "plt.legend(title='Age Group')\n",
    "plt.show()\n"
   ]
  },
  {
   "cell_type": "code",
   "execution_count": null,
   "metadata": {},
   "outputs": [],
   "source": [
    "from sklearn.metrics import silhouette_score\n",
    "\n",
    "# Calculate Silhouette Score\n",
    "score = silhouette_score(scaled_features, clusters)\n",
    "print('Silhouette Score: %.2f' % score)"
   ]
  }
 ],
 "metadata": {
  "kernelspec": {
   "display_name": "Python 3",
   "language": "python",
   "name": "python3"
  },
  "language_info": {
   "codemirror_mode": {
    "name": "ipython",
    "version": 3
   },
   "file_extension": ".py",
   "mimetype": "text/x-python",
   "name": "python",
   "nbconvert_exporter": "python",
   "pygments_lexer": "ipython3",
   "version": "3.10.12"
  }
 },
 "nbformat": 4,
 "nbformat_minor": 2
}
